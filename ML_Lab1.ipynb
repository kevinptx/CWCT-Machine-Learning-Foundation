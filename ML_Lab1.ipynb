{
  "nbformat": 4,
  "nbformat_minor": 0,
  "metadata": {
    "colab": {
      "provenance": [],
      "authorship_tag": "ABX9TyNrvCTzDegz+b2F/vvQwmUU"
    },
    "kernelspec": {
      "name": "python3",
      "display_name": "Python 3"
    },
    "language_info": {
      "name": "python"
    }
  },
  "cells": [
    {
      "cell_type": "markdown",
      "source": [
        "#Lab1"
      ],
      "metadata": {
        "id": "o2t9lPt1MRL0"
      }
    },
    {
      "cell_type": "code",
      "source": [
        "def matrix_add(A, B):\n",
        "    rows_A, cols_A = len(A), len(A[0])\n",
        "    rows_B, cols_B = len(B), len(B[0])\n",
        "    rest = [[0 for _ in range(cols_A)] for _ in range(rows_B)]\n",
        "    # CODE HERE to complete the matrix_add function\n",
        "    # We need to check if A and B are the same size\n",
        "    if rows_A == rows_B and cols_A == cols_B:\n",
        "      for i in range(rows_A):\n",
        "        for j in range(cols_A):\n",
        "          rest[i][j] = A[i][j] + B[i][j]\n",
        "      return rest\n",
        "    else:\n",
        "      print(\"Matrices are not the same size.\")\n",
        "\n",
        "    return None"
      ],
      "metadata": {
        "id": "aG_8sMTjMcIH"
      },
      "execution_count": null,
      "outputs": []
    },
    {
      "cell_type": "code",
      "source": [
        "X = [[12,7,3],\n",
        "    [4 ,5,6],\n",
        "    [7 ,8,9],\n",
        "    [1,2,3]]\n",
        "\n",
        "Y = [[5,8,1],\n",
        "    [6,7,3],\n",
        "    [4,5,9]]\n",
        "\n",
        "res = matrix_add(X, Y)\n",
        "if res != None:\n",
        "  for r in res:\n",
        "    print(r)\n"
      ],
      "metadata": {
        "colab": {
          "base_uri": "https://localhost:8080/"
        },
        "id": "90X2pDtSM8oU",
        "outputId": "9aca7de4-d54f-442b-c3e8-a27c30529297"
      },
      "execution_count": null,
      "outputs": [
        {
          "output_type": "stream",
          "name": "stdout",
          "text": [
            "Matrices are not the same size.\n"
          ]
        }
      ]
    },
    {
      "cell_type": "code",
      "source": [
        "def matrix_subtraction(A, B):\n",
        "    rows_A, cols_A = len(A), len(A[0])\n",
        "    rows_B, cols_B = len(B), len(B[0])\n",
        "    rest = [[0 for _ in range(cols_A)] for _ in range(rows_B)]\n",
        "    # CODE HERE to complete the matrix_add function\n",
        "    for i in range(rows_A):\n",
        "      for j in range(cols_A):\n",
        "        rest[i][j] = A[i][j] - B[i][j]\n",
        "\n",
        "    return rest"
      ],
      "metadata": {
        "id": "33j12A1tkl6N"
      },
      "execution_count": null,
      "outputs": []
    },
    {
      "cell_type": "code",
      "source": [
        "X = [[12,7,3],\n",
        "    [4 ,5,6],\n",
        "    [7 ,8,9]]\n",
        "\n",
        "Y = [[5,8,1],\n",
        "    [6,7,3],\n",
        "    [4,5,9]]\n",
        "res = matrix_subtraction(X, Y)\n",
        "for r in res:\n",
        "    print(r)"
      ],
      "metadata": {
        "colab": {
          "base_uri": "https://localhost:8080/"
        },
        "id": "yNK4Ydmek6UE",
        "outputId": "e26d10b0-228a-48ed-ab62-ca96ac32ff8d"
      },
      "execution_count": null,
      "outputs": [
        {
          "output_type": "stream",
          "name": "stdout",
          "text": [
            "[7, -1, 2]\n",
            "[-2, -2, 3]\n",
            "[3, 3, 0]\n"
          ]
        }
      ]
    },
    {
      "cell_type": "code",
      "source": [
        "def matrix_mult(A, B):\n",
        "    # Get the dimensions of the matrices\n",
        "    rows_A, cols_A = len(A), len(A[0])\n",
        "    rows_B, cols_B = len(B), len(B[0])\n",
        "\n",
        "    # Create the result matrix\n",
        "    rest = [[0 for _ in range(cols_B)] for _ in range(rows_A)]\n",
        "\n",
        "    # CODE HERE to complete the matrix multiplication function\n",
        "    #check the dimensions\n",
        "    if cols_A != rows_B:\n",
        "      print(\"Error: Dimensions do not match\")\n",
        "      return None\n",
        "    else:\n",
        "      for i in range(rows_A):\n",
        "        for j in range(cols_B):\n",
        "          for k in range(cols_A):\n",
        "            rest[i][j] = rest[i][j] + A[i][k] * B[k][j]\n",
        "      return rest"
      ],
      "metadata": {
        "id": "69YsiRs1ojEL"
      },
      "execution_count": null,
      "outputs": []
    },
    {
      "cell_type": "code",
      "source": [
        "A = [[1, 7, 3],\n",
        "     [3, 5, 6],\n",
        "     [6, 8, 9]]\n",
        "B = [[1, 1, 1, 2],\n",
        "     [6, 7, 3, 0],\n",
        "     [4, 5, 9, 1]]\n",
        "\n",
        "res = matrix_mult(A,B)\n",
        "if res != None:\n",
        "  for r in res:\n",
        "    print(r)"
      ],
      "metadata": {
        "colab": {
          "base_uri": "https://localhost:8080/"
        },
        "id": "em38TvS-otBL",
        "outputId": "b2b60f88-937c-4395-8bf3-5d1257523e14"
      },
      "execution_count": null,
      "outputs": [
        {
          "output_type": "stream",
          "name": "stdout",
          "text": [
            "[55, 65, 49, 5]\n",
            "[57, 68, 72, 12]\n",
            "[90, 107, 111, 21]\n"
          ]
        }
      ]
    },
    {
      "cell_type": "code",
      "source": [
        "def transpose_matrix(matrix):\n",
        "    # Returns the transpose of a matrix\n",
        "    return list(map(list, zip(*matrix)))\n",
        "\n",
        "def minor(matrix, i, j):\n",
        "    # Returns the minor of the matrix after removing row i and column j\n",
        "    return [row[:j]+row[j+1:] for row in (matrix[:i]+matrix[i+1:])]\n",
        "\n",
        "def determinant(matrix):\n",
        "    # Recursive function to calculate the determinant of a matrix\n",
        "    if len(matrix) == 1:\n",
        "        return matrix[0][0]\n",
        "    det = 0\n",
        "    for j in range(len(matrix)):\n",
        "        det += ((-1)**j)*matrix[0][j]*determinant(minor(matrix, 0, j))\n",
        "    return det\n",
        "\n",
        "def inverse_matrix(matrix):\n",
        "    n = len(matrix)\n",
        "    det_A = determinant(matrix)\n",
        "    if det_A == 0:\n",
        "        print(\"Matrix is not invertible (determinant is zero).\")\n",
        "        exit()\n",
        "    adjoint = []\n",
        "    for i in range(n):\n",
        "        row = []\n",
        "        for j in range(n):\n",
        "            cofactor = ((-1)**(i+j))*determinant(minor(matrix, i, j))\n",
        "            row.append(cofactor / det_A)\n",
        "        adjoint.append(row)\n",
        "    return transpose_matrix(adjoint)"
      ],
      "metadata": {
        "id": "9_jI0VYMtmZs"
      },
      "execution_count": null,
      "outputs": []
    },
    {
      "cell_type": "code",
      "source": [
        "A = [[4, 4],\n",
        "     [2, -4]]\n",
        "\n",
        "b = [[5],\n",
        "     [1]]\n",
        "\n",
        "inv_A = inverse_matrix(A)\n",
        "x = matrix_mult(inv_A, b)\n",
        "print(\"X1 = \", x[0][0])\n",
        "print(\"X2 = \", x[1][0])"
      ],
      "metadata": {
        "colab": {
          "base_uri": "https://localhost:8080/"
        },
        "id": "2ha92MLRt0hS",
        "outputId": "37f749b5-f7a2-4d4e-f354-b006c7e7a09d"
      },
      "execution_count": null,
      "outputs": [
        {
          "output_type": "stream",
          "name": "stdout",
          "text": [
            "X1 =  0.9999999999999999\n",
            "X2 =  0.24999999999999997\n"
          ]
        }
      ]
    },
    {
      "cell_type": "code",
      "source": [
        "x"
      ],
      "metadata": {
        "colab": {
          "base_uri": "https://localhost:8080/"
        },
        "id": "1Fkljy7zvIFq",
        "outputId": "33824b0a-eb76-4eec-dbab-045201ff5242"
      },
      "execution_count": null,
      "outputs": [
        {
          "output_type": "execute_result",
          "data": {
            "text/plain": [
              "[[0.9999999999999999], [0.24999999999999997]]"
            ]
          },
          "metadata": {},
          "execution_count": 15
        }
      ]
    },
    {
      "cell_type": "code",
      "source": [
        "print(\"X1 = \", x[0][0])"
      ],
      "metadata": {
        "colab": {
          "base_uri": "https://localhost:8080/"
        },
        "id": "JJAu9UkdvNHW",
        "outputId": "6dd5c01b-891a-4f5f-86aa-8a2df4eeded7"
      },
      "execution_count": null,
      "outputs": [
        {
          "output_type": "stream",
          "name": "stdout",
          "text": [
            "X1 =  0.9999999999999999\n"
          ]
        }
      ]
    }
  ]
}