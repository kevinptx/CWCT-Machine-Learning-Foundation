{
  "nbformat": 4,
  "nbformat_minor": 0,
  "metadata": {
    "colab": {
      "provenance": [],
      "authorship_tag": "ABX9TyOq8NCVkSjF5bikWiTZenbm",
      "include_colab_link": true
    },
    "kernelspec": {
      "name": "python3",
      "display_name": "Python 3"
    },
    "language_info": {
      "name": "python"
    }
  },
  "cells": [
    {
      "cell_type": "markdown",
      "metadata": {
        "id": "view-in-github",
        "colab_type": "text"
      },
      "source": [
        "<a href=\"https://colab.research.google.com/github/kevinptx/CWCT-Machine-Learning-Foundation/blob/main/ML_Lab2.ipynb\" target=\"_parent\"><img src=\"https://colab.research.google.com/assets/colab-badge.svg\" alt=\"Open In Colab\"/></a>"
      ]
    },
    {
      "cell_type": "code",
      "execution_count": 5,
      "metadata": {
        "id": "Ej5F_rE_8QpY"
      },
      "outputs": [],
      "source": [
        "import numpy as np\n",
        "hwd=np.loadtxt(\"./lab2-hw.txt\", dtype=str)\n",
        "testd=np.loadtxt(\"./lab2-test.txt\", dtype=str)\n",
        "quizd=np.loadtxt(\"./lab2-quiz.txt\", dtype=str)\n",
        "projd=np.loadtxt(\"./lab2-project.txt\", dtype=str)"
      ]
    },
    {
      "cell_type": "code",
      "source": [
        "print(hwd)"
      ],
      "metadata": {
        "colab": {
          "base_uri": "https://localhost:8080/"
        },
        "id": "YhdYwMejr-lO",
        "outputId": "db8126f4-0907-4101-ea21-1840a577921a"
      },
      "execution_count": 6,
      "outputs": [
        {
          "output_type": "stream",
          "name": "stdout",
          "text": [
            "[['Name' 'hw1' 'hw2' 'hw3' 'hw4' 'hw5']\n",
            " ['A' '45' '46' '50' '39' '50']\n",
            " ['B' '35' '40' '41' '45' '40']\n",
            " ['C' '31' '38' '40' '29' '45']\n",
            " ['D' '40' '41' '42' '45' '41']\n",
            " ['E' '49' '47' '41' '39' '45']\n",
            " ['F' '30' '31' '38' '40' '39']]\n"
          ]
        }
      ]
    },
    {
      "cell_type": "code",
      "source": [
        "hw = (hwd[1:, 1:]).astype(float)"
      ],
      "metadata": {
        "id": "BEzjk7VUs9tJ"
      },
      "execution_count": 8,
      "outputs": []
    },
    {
      "cell_type": "code",
      "source": [
        "test = (testd[1:, 1:]).astype(float)\n",
        "quiz = (quizd[1:, 1:]).astype(float)\n",
        "proj = (projd[1:, 1:]).astype(float)"
      ],
      "metadata": {
        "id": "Kh9eDVPHwokM"
      },
      "execution_count": 10,
      "outputs": []
    },
    {
      "cell_type": "code",
      "source": [
        "hw_ave = np.average(hw, axis=1)"
      ],
      "metadata": {
        "id": "6iFPdGAyxFXi"
      },
      "execution_count": 12,
      "outputs": []
    },
    {
      "cell_type": "code",
      "source": [
        "print(hw_ave)"
      ],
      "metadata": {
        "colab": {
          "base_uri": "https://localhost:8080/"
        },
        "id": "PhS_YoW3xtzx",
        "outputId": "9dcd174c-0264-4d1c-e47e-349faf395dd7"
      },
      "execution_count": 13,
      "outputs": [
        {
          "output_type": "stream",
          "name": "stdout",
          "text": [
            "[46.  40.2 36.6 41.8 44.2 35.6]\n"
          ]
        }
      ]
    },
    {
      "cell_type": "code",
      "source": [
        "test_ave = np.average(test, axis=1)\n",
        "quiz_ave = np.average(quiz, axis=1)\n",
        "proj_ave = np.average(proj, axis=1)"
      ],
      "metadata": {
        "id": "PlM2WSa0xwln"
      },
      "execution_count": 14,
      "outputs": []
    },
    {
      "cell_type": "code",
      "source": [
        "print(test_ave)"
      ],
      "metadata": {
        "colab": {
          "base_uri": "https://localhost:8080/"
        },
        "id": "kUXk2Jn9x3_9",
        "outputId": "a2be798d-f2aa-47d1-bb57-70fd29ede7b6"
      },
      "execution_count": 15,
      "outputs": [
        {
          "output_type": "stream",
          "name": "stdout",
          "text": [
            "[94.  90.  83.  87.5 74.5 80. ]\n"
          ]
        }
      ]
    },
    {
      "cell_type": "code",
      "source": [
        "hw_w = hw_ave*(100/50)"
      ],
      "metadata": {
        "id": "8mQ75TumyYu1"
      },
      "execution_count": 16,
      "outputs": []
    },
    {
      "cell_type": "code",
      "source": [
        "print(hw_w)"
      ],
      "metadata": {
        "colab": {
          "base_uri": "https://localhost:8080/"
        },
        "id": "A9RsHxMYyfRb",
        "outputId": "8ef25b7d-bb0c-413d-cb78-8abd56149b8f"
      },
      "execution_count": 17,
      "outputs": [
        {
          "output_type": "stream",
          "name": "stdout",
          "text": [
            "[92.  80.4 73.2 83.6 88.4 71.2]\n"
          ]
        }
      ]
    },
    {
      "cell_type": "code",
      "source": [
        "test_w = test_ave*(100/100)\n",
        "quiz_w = quiz_ave*(100/10)\n",
        "proj_w = proj_ave*(100/100)"
      ],
      "metadata": {
        "id": "zdh7HY0Wymoe"
      },
      "execution_count": 18,
      "outputs": []
    },
    {
      "cell_type": "code",
      "source": [
        "grades = np.column_stack((hw_w, test_w, quiz_w, proj_w))"
      ],
      "metadata": {
        "id": "vGKI8KFdzS66"
      },
      "execution_count": 20,
      "outputs": []
    },
    {
      "cell_type": "code",
      "source": [
        "print(grades)"
      ],
      "metadata": {
        "colab": {
          "base_uri": "https://localhost:8080/"
        },
        "id": "btNQz8aqzdz0",
        "outputId": "e55405bf-3771-44c2-e8c2-1d345cc3d3bb"
      },
      "execution_count": 21,
      "outputs": [
        {
          "output_type": "stream",
          "name": "stdout",
          "text": [
            "[[92.  94.  90.  90. ]\n",
            " [80.4 90.  88.  95. ]\n",
            " [73.2 83.  80.  85. ]\n",
            " [83.6 87.5 94.  71. ]\n",
            " [88.4 74.5 88.  82. ]\n",
            " [71.2 80.  76.  70. ]]\n"
          ]
        }
      ]
    },
    {
      "cell_type": "code",
      "source": [
        "wgt = [0.3, 0.4, 0.1, 0.2]"
      ],
      "metadata": {
        "id": "rWrJEL84z6iz"
      },
      "execution_count": 22,
      "outputs": []
    },
    {
      "cell_type": "code",
      "source": [
        "final_grade = np.matmul(grades, wgt)"
      ],
      "metadata": {
        "id": "IWu5WZU3z_VE"
      },
      "execution_count": 23,
      "outputs": []
    },
    {
      "cell_type": "code",
      "source": [
        "print(final_grade)"
      ],
      "metadata": {
        "colab": {
          "base_uri": "https://localhost:8080/"
        },
        "id": "TroW79T30Dpb",
        "outputId": "3a43d239-0235-4cae-8985-5732ac9ec207"
      },
      "execution_count": 24,
      "outputs": [
        {
          "output_type": "stream",
          "name": "stdout",
          "text": [
            "[92.2  87.92 80.16 83.68 81.52 74.96]\n"
          ]
        }
      ]
    },
    {
      "cell_type": "code",
      "source": [
        "import numpy as np\n",
        "import matplotlib.pyplot as plt\n",
        "import pandas as pd\n",
        "\n",
        "df = pd.read_pickle('lab2-T2-data.pkl')"
      ],
      "metadata": {
        "id": "mE1sKx8h1f3c"
      },
      "execution_count": 25,
      "outputs": []
    },
    {
      "cell_type": "code",
      "source": [
        "df.head(3)"
      ],
      "metadata": {
        "colab": {
          "base_uri": "https://localhost:8080/",
          "height": 178
        },
        "id": "9GAtANVK1sHQ",
        "outputId": "18033f3b-58bd-452a-b9b7-d999cfb484f5"
      },
      "execution_count": 26,
      "outputs": [
        {
          "output_type": "execute_result",
          "data": {
            "text/plain": [
              "                                               title subtitle series  \\\n",
              "0                                           \"13 1/2\"      NaN    NaN   \n",
              "1  \"The Secret Diary of Hendrik Groen, 83 1/2 Yea...      NaN    NaN   \n",
              "2                            18 and Life on Skid Row      NaN    NaN   \n",
              "\n",
              "            author my_rating avg_rating                 publisher    binding  \\\n",
              "0     Barr, Nevada       3.0        3.3            Vanguard Press  Hardcover   \n",
              "1   Groen, Hendrik       4.0       3.95  Grand Central Publishing  Hardcover   \n",
              "2  Bach, Sebastian       3.0       3.68          Dey Street Books  Hardcover   \n",
              "\n",
              "   pages year_published month_read  month_read_num  year_read bookshelf  \n",
              "0    320           2009        May               5       2011      read  \n",
              "1    384           2014     August               8       2017      read  \n",
              "2    433           2016      April               4       2020      read  "
            ],
            "text/html": [
              "\n",
              "  <div id=\"df-4c34955f-f3b8-4afb-9ed5-a92173b59b29\" class=\"colab-df-container\">\n",
              "    <div>\n",
              "<style scoped>\n",
              "    .dataframe tbody tr th:only-of-type {\n",
              "        vertical-align: middle;\n",
              "    }\n",
              "\n",
              "    .dataframe tbody tr th {\n",
              "        vertical-align: top;\n",
              "    }\n",
              "\n",
              "    .dataframe thead th {\n",
              "        text-align: right;\n",
              "    }\n",
              "</style>\n",
              "<table border=\"1\" class=\"dataframe\">\n",
              "  <thead>\n",
              "    <tr style=\"text-align: right;\">\n",
              "      <th></th>\n",
              "      <th>title</th>\n",
              "      <th>subtitle</th>\n",
              "      <th>series</th>\n",
              "      <th>author</th>\n",
              "      <th>my_rating</th>\n",
              "      <th>avg_rating</th>\n",
              "      <th>publisher</th>\n",
              "      <th>binding</th>\n",
              "      <th>pages</th>\n",
              "      <th>year_published</th>\n",
              "      <th>month_read</th>\n",
              "      <th>month_read_num</th>\n",
              "      <th>year_read</th>\n",
              "      <th>bookshelf</th>\n",
              "    </tr>\n",
              "  </thead>\n",
              "  <tbody>\n",
              "    <tr>\n",
              "      <th>0</th>\n",
              "      <td>\"13 1/2\"</td>\n",
              "      <td>NaN</td>\n",
              "      <td>NaN</td>\n",
              "      <td>Barr, Nevada</td>\n",
              "      <td>3.0</td>\n",
              "      <td>3.3</td>\n",
              "      <td>Vanguard Press</td>\n",
              "      <td>Hardcover</td>\n",
              "      <td>320</td>\n",
              "      <td>2009</td>\n",
              "      <td>May</td>\n",
              "      <td>5</td>\n",
              "      <td>2011</td>\n",
              "      <td>read</td>\n",
              "    </tr>\n",
              "    <tr>\n",
              "      <th>1</th>\n",
              "      <td>\"The Secret Diary of Hendrik Groen, 83 1/2 Yea...</td>\n",
              "      <td>NaN</td>\n",
              "      <td>NaN</td>\n",
              "      <td>Groen, Hendrik</td>\n",
              "      <td>4.0</td>\n",
              "      <td>3.95</td>\n",
              "      <td>Grand Central Publishing</td>\n",
              "      <td>Hardcover</td>\n",
              "      <td>384</td>\n",
              "      <td>2014</td>\n",
              "      <td>August</td>\n",
              "      <td>8</td>\n",
              "      <td>2017</td>\n",
              "      <td>read</td>\n",
              "    </tr>\n",
              "    <tr>\n",
              "      <th>2</th>\n",
              "      <td>18 and Life on Skid Row</td>\n",
              "      <td>NaN</td>\n",
              "      <td>NaN</td>\n",
              "      <td>Bach, Sebastian</td>\n",
              "      <td>3.0</td>\n",
              "      <td>3.68</td>\n",
              "      <td>Dey Street Books</td>\n",
              "      <td>Hardcover</td>\n",
              "      <td>433</td>\n",
              "      <td>2016</td>\n",
              "      <td>April</td>\n",
              "      <td>4</td>\n",
              "      <td>2020</td>\n",
              "      <td>read</td>\n",
              "    </tr>\n",
              "  </tbody>\n",
              "</table>\n",
              "</div>\n",
              "    <div class=\"colab-df-buttons\">\n",
              "\n",
              "  <div class=\"colab-df-container\">\n",
              "    <button class=\"colab-df-convert\" onclick=\"convertToInteractive('df-4c34955f-f3b8-4afb-9ed5-a92173b59b29')\"\n",
              "            title=\"Convert this dataframe to an interactive table.\"\n",
              "            style=\"display:none;\">\n",
              "\n",
              "  <svg xmlns=\"http://www.w3.org/2000/svg\" height=\"24px\" viewBox=\"0 -960 960 960\">\n",
              "    <path d=\"M120-120v-720h720v720H120Zm60-500h600v-160H180v160Zm220 220h160v-160H400v160Zm0 220h160v-160H400v160ZM180-400h160v-160H180v160Zm440 0h160v-160H620v160ZM180-180h160v-160H180v160Zm440 0h160v-160H620v160Z\"/>\n",
              "  </svg>\n",
              "    </button>\n",
              "\n",
              "  <style>\n",
              "    .colab-df-container {\n",
              "      display:flex;\n",
              "      gap: 12px;\n",
              "    }\n",
              "\n",
              "    .colab-df-convert {\n",
              "      background-color: #E8F0FE;\n",
              "      border: none;\n",
              "      border-radius: 50%;\n",
              "      cursor: pointer;\n",
              "      display: none;\n",
              "      fill: #1967D2;\n",
              "      height: 32px;\n",
              "      padding: 0 0 0 0;\n",
              "      width: 32px;\n",
              "    }\n",
              "\n",
              "    .colab-df-convert:hover {\n",
              "      background-color: #E2EBFA;\n",
              "      box-shadow: 0px 1px 2px rgba(60, 64, 67, 0.3), 0px 1px 3px 1px rgba(60, 64, 67, 0.15);\n",
              "      fill: #174EA6;\n",
              "    }\n",
              "\n",
              "    .colab-df-buttons div {\n",
              "      margin-bottom: 4px;\n",
              "    }\n",
              "\n",
              "    [theme=dark] .colab-df-convert {\n",
              "      background-color: #3B4455;\n",
              "      fill: #D2E3FC;\n",
              "    }\n",
              "\n",
              "    [theme=dark] .colab-df-convert:hover {\n",
              "      background-color: #434B5C;\n",
              "      box-shadow: 0px 1px 3px 1px rgba(0, 0, 0, 0.15);\n",
              "      filter: drop-shadow(0px 1px 2px rgba(0, 0, 0, 0.3));\n",
              "      fill: #FFFFFF;\n",
              "    }\n",
              "  </style>\n",
              "\n",
              "    <script>\n",
              "      const buttonEl =\n",
              "        document.querySelector('#df-4c34955f-f3b8-4afb-9ed5-a92173b59b29 button.colab-df-convert');\n",
              "      buttonEl.style.display =\n",
              "        google.colab.kernel.accessAllowed ? 'block' : 'none';\n",
              "\n",
              "      async function convertToInteractive(key) {\n",
              "        const element = document.querySelector('#df-4c34955f-f3b8-4afb-9ed5-a92173b59b29');\n",
              "        const dataTable =\n",
              "          await google.colab.kernel.invokeFunction('convertToInteractive',\n",
              "                                                    [key], {});\n",
              "        if (!dataTable) return;\n",
              "\n",
              "        const docLinkHtml = 'Like what you see? Visit the ' +\n",
              "          '<a target=\"_blank\" href=https://colab.research.google.com/notebooks/data_table.ipynb>data table notebook</a>'\n",
              "          + ' to learn more about interactive tables.';\n",
              "        element.innerHTML = '';\n",
              "        dataTable['output_type'] = 'display_data';\n",
              "        await google.colab.output.renderOutput(dataTable, element);\n",
              "        const docLink = document.createElement('div');\n",
              "        docLink.innerHTML = docLinkHtml;\n",
              "        element.appendChild(docLink);\n",
              "      }\n",
              "    </script>\n",
              "  </div>\n",
              "\n",
              "\n",
              "<div id=\"df-09c725ef-4514-4f33-a6dc-7a5820578427\">\n",
              "  <button class=\"colab-df-quickchart\" onclick=\"quickchart('df-09c725ef-4514-4f33-a6dc-7a5820578427')\"\n",
              "            title=\"Suggest charts\"\n",
              "            style=\"display:none;\">\n",
              "\n",
              "<svg xmlns=\"http://www.w3.org/2000/svg\" height=\"24px\"viewBox=\"0 0 24 24\"\n",
              "     width=\"24px\">\n",
              "    <g>\n",
              "        <path d=\"M19 3H5c-1.1 0-2 .9-2 2v14c0 1.1.9 2 2 2h14c1.1 0 2-.9 2-2V5c0-1.1-.9-2-2-2zM9 17H7v-7h2v7zm4 0h-2V7h2v10zm4 0h-2v-4h2v4z\"/>\n",
              "    </g>\n",
              "</svg>\n",
              "  </button>\n",
              "\n",
              "<style>\n",
              "  .colab-df-quickchart {\n",
              "      --bg-color: #E8F0FE;\n",
              "      --fill-color: #1967D2;\n",
              "      --hover-bg-color: #E2EBFA;\n",
              "      --hover-fill-color: #174EA6;\n",
              "      --disabled-fill-color: #AAA;\n",
              "      --disabled-bg-color: #DDD;\n",
              "  }\n",
              "\n",
              "  [theme=dark] .colab-df-quickchart {\n",
              "      --bg-color: #3B4455;\n",
              "      --fill-color: #D2E3FC;\n",
              "      --hover-bg-color: #434B5C;\n",
              "      --hover-fill-color: #FFFFFF;\n",
              "      --disabled-bg-color: #3B4455;\n",
              "      --disabled-fill-color: #666;\n",
              "  }\n",
              "\n",
              "  .colab-df-quickchart {\n",
              "    background-color: var(--bg-color);\n",
              "    border: none;\n",
              "    border-radius: 50%;\n",
              "    cursor: pointer;\n",
              "    display: none;\n",
              "    fill: var(--fill-color);\n",
              "    height: 32px;\n",
              "    padding: 0;\n",
              "    width: 32px;\n",
              "  }\n",
              "\n",
              "  .colab-df-quickchart:hover {\n",
              "    background-color: var(--hover-bg-color);\n",
              "    box-shadow: 0 1px 2px rgba(60, 64, 67, 0.3), 0 1px 3px 1px rgba(60, 64, 67, 0.15);\n",
              "    fill: var(--button-hover-fill-color);\n",
              "  }\n",
              "\n",
              "  .colab-df-quickchart-complete:disabled,\n",
              "  .colab-df-quickchart-complete:disabled:hover {\n",
              "    background-color: var(--disabled-bg-color);\n",
              "    fill: var(--disabled-fill-color);\n",
              "    box-shadow: none;\n",
              "  }\n",
              "\n",
              "  .colab-df-spinner {\n",
              "    border: 2px solid var(--fill-color);\n",
              "    border-color: transparent;\n",
              "    border-bottom-color: var(--fill-color);\n",
              "    animation:\n",
              "      spin 1s steps(1) infinite;\n",
              "  }\n",
              "\n",
              "  @keyframes spin {\n",
              "    0% {\n",
              "      border-color: transparent;\n",
              "      border-bottom-color: var(--fill-color);\n",
              "      border-left-color: var(--fill-color);\n",
              "    }\n",
              "    20% {\n",
              "      border-color: transparent;\n",
              "      border-left-color: var(--fill-color);\n",
              "      border-top-color: var(--fill-color);\n",
              "    }\n",
              "    30% {\n",
              "      border-color: transparent;\n",
              "      border-left-color: var(--fill-color);\n",
              "      border-top-color: var(--fill-color);\n",
              "      border-right-color: var(--fill-color);\n",
              "    }\n",
              "    40% {\n",
              "      border-color: transparent;\n",
              "      border-right-color: var(--fill-color);\n",
              "      border-top-color: var(--fill-color);\n",
              "    }\n",
              "    60% {\n",
              "      border-color: transparent;\n",
              "      border-right-color: var(--fill-color);\n",
              "    }\n",
              "    80% {\n",
              "      border-color: transparent;\n",
              "      border-right-color: var(--fill-color);\n",
              "      border-bottom-color: var(--fill-color);\n",
              "    }\n",
              "    90% {\n",
              "      border-color: transparent;\n",
              "      border-bottom-color: var(--fill-color);\n",
              "    }\n",
              "  }\n",
              "</style>\n",
              "\n",
              "  <script>\n",
              "    async function quickchart(key) {\n",
              "      const quickchartButtonEl =\n",
              "        document.querySelector('#' + key + ' button');\n",
              "      quickchartButtonEl.disabled = true;  // To prevent multiple clicks.\n",
              "      quickchartButtonEl.classList.add('colab-df-spinner');\n",
              "      try {\n",
              "        const charts = await google.colab.kernel.invokeFunction(\n",
              "            'suggestCharts', [key], {});\n",
              "      } catch (error) {\n",
              "        console.error('Error during call to suggestCharts:', error);\n",
              "      }\n",
              "      quickchartButtonEl.classList.remove('colab-df-spinner');\n",
              "      quickchartButtonEl.classList.add('colab-df-quickchart-complete');\n",
              "    }\n",
              "    (() => {\n",
              "      let quickchartButtonEl =\n",
              "        document.querySelector('#df-09c725ef-4514-4f33-a6dc-7a5820578427 button');\n",
              "      quickchartButtonEl.style.display =\n",
              "        google.colab.kernel.accessAllowed ? 'block' : 'none';\n",
              "    })();\n",
              "  </script>\n",
              "</div>\n",
              "\n",
              "    </div>\n",
              "  </div>\n"
            ],
            "application/vnd.google.colaboratory.intrinsic+json": {
              "type": "dataframe",
              "variable_name": "df",
              "summary": "{\n  \"name\": \"df\",\n  \"rows\": 671,\n  \"fields\": [\n    {\n      \"column\": \"title\",\n      \"properties\": {\n        \"dtype\": \"string\",\n        \"num_unique_values\": 652,\n        \"samples\": [\n          \"Without Remorse\",\n          \"More Twisted\",\n          \"Miss Wyoming\"\n        ],\n        \"semantic_type\": \"\",\n        \"description\": \"\"\n      }\n    },\n    {\n      \"column\": \"subtitle\",\n      \"properties\": {\n        \"dtype\": \"category\",\n        \"num_unique_values\": 205,\n        \"samples\": [\n          \"Selected Writings on Family, Animals, and Life from The Philadelphia Inquirer\",\n          \"Essays on Art\",\n          \"How a Pioneering Chef Helped Shape the Way We Eat Today\"\n        ],\n        \"semantic_type\": \"\",\n        \"description\": \"\"\n      }\n    },\n    {\n      \"column\": \"series\",\n      \"properties\": {\n        \"dtype\": \"category\",\n        \"num_unique_values\": 118,\n        \"samples\": [\n          \"Rogue Lawyer, #1\",\n          \"Detective Hannah McCabe, #1\",\n          \"Serena Jones Mystery, #1\"\n        ],\n        \"semantic_type\": \"\",\n        \"description\": \"\"\n      }\n    },\n    {\n      \"column\": \"author\",\n      \"properties\": {\n        \"dtype\": \"string\",\n        \"num_unique_values\": 477,\n        \"samples\": [\n          \"Buffett, Jimmy\",\n          \"Ziegesar, Cecily von\",\n          \"Richman, Alan\"\n        ],\n        \"semantic_type\": \"\",\n        \"description\": \"\"\n      }\n    },\n    {\n      \"column\": \"my_rating\",\n      \"properties\": {\n        \"dtype\": \"date\",\n        \"min\": 0.0,\n        \"max\": 5.0,\n        \"num_unique_values\": 6,\n        \"samples\": [\n          3.0,\n          4.0,\n          0.0\n        ],\n        \"semantic_type\": \"\",\n        \"description\": \"\"\n      }\n    },\n    {\n      \"column\": \"avg_rating\",\n      \"properties\": {\n        \"dtype\": \"date\",\n        \"min\": -3.93,\n        \"max\": 53.81,\n        \"num_unique_values\": 169,\n        \"samples\": [\n          4.33,\n          2.64,\n          4.41\n        ],\n        \"semantic_type\": \"\",\n        \"description\": \"\"\n      }\n    },\n    {\n      \"column\": \"publisher\",\n      \"properties\": {\n        \"dtype\": \"category\",\n        \"num_unique_values\": 214,\n        \"samples\": [\n          \"Revell\",\n          \"Avery\",\n          \"Thomas Nelson\"\n        ],\n        \"semantic_type\": \"\",\n        \"description\": \"\"\n      }\n    },\n    {\n      \"column\": \"binding\",\n      \"properties\": {\n        \"dtype\": \"category\",\n        \"num_unique_values\": 2,\n        \"samples\": [\n          \"Paperback\",\n          \"Hardcover\"\n        ],\n        \"semantic_type\": \"\",\n        \"description\": \"\"\n      }\n    },\n    {\n      \"column\": \"pages\",\n      \"properties\": {\n        \"dtype\": \"number\",\n        \"std\": 143,\n        \"min\": 4,\n        \"max\": 1177,\n        \"num_unique_values\": 287,\n        \"samples\": [\n          385,\n          515\n        ],\n        \"semantic_type\": \"\",\n        \"description\": \"\"\n      }\n    },\n    {\n      \"column\": \"year_published\",\n      \"properties\": {\n        \"dtype\": \"date\",\n        \"min\": -2012,\n        \"max\": 2020,\n        \"num_unique_values\": 67,\n        \"samples\": [\n          2019,\n          1989\n        ],\n        \"semantic_type\": \"\",\n        \"description\": \"\"\n      }\n    },\n    {\n      \"column\": \"month_read\",\n      \"properties\": {\n        \"dtype\": \"category\",\n        \"num_unique_values\": 12,\n        \"samples\": [\n          \"July\",\n          \"December\"\n        ],\n        \"semantic_type\": \"\",\n        \"description\": \"\"\n      }\n    },\n    {\n      \"column\": \"month_read_num\",\n      \"properties\": {\n        \"dtype\": \"number\",\n        \"std\": 3,\n        \"min\": 1,\n        \"max\": 12,\n        \"num_unique_values\": 12,\n        \"samples\": [\n          7,\n          12\n        ],\n        \"semantic_type\": \"\",\n        \"description\": \"\"\n      }\n    },\n    {\n      \"column\": \"year_read\",\n      \"properties\": {\n        \"dtype\": \"number\",\n        \"std\": 2,\n        \"min\": 2010,\n        \"max\": 2020,\n        \"num_unique_values\": 11,\n        \"samples\": [\n          2016,\n          2011\n        ],\n        \"semantic_type\": \"\",\n        \"description\": \"\"\n      }\n    },\n    {\n      \"column\": \"bookshelf\",\n      \"properties\": {\n        \"dtype\": \"category\",\n        \"num_unique_values\": 2,\n        \"samples\": [\n          \"quit-reading\",\n          \"read\"\n        ],\n        \"semantic_type\": \"\",\n        \"description\": \"\"\n      }\n    }\n  ]\n}"
            }
          },
          "metadata": {},
          "execution_count": 26
        }
      ]
    },
    {
      "cell_type": "code",
      "source": [
        "print(df.shape)"
      ],
      "metadata": {
        "colab": {
          "base_uri": "https://localhost:8080/"
        },
        "id": "ZeTv1Pyp16nw",
        "outputId": "804d4b75-1671-4d6d-d19b-39c060f80baa"
      },
      "execution_count": 27,
      "outputs": [
        {
          "output_type": "stream",
          "name": "stdout",
          "text": [
            "(671, 14)\n"
          ]
        }
      ]
    },
    {
      "cell_type": "code",
      "source": [
        "print(df.columns)"
      ],
      "metadata": {
        "colab": {
          "base_uri": "https://localhost:8080/"
        },
        "id": "YBPaP6vG1_UV",
        "outputId": "49e61413-2caf-4cb1-e958-6a9abbacd7e2"
      },
      "execution_count": 28,
      "outputs": [
        {
          "output_type": "stream",
          "name": "stdout",
          "text": [
            "Index(['title', 'subtitle', 'series', 'author', 'my_rating', 'avg_rating',\n",
            "       'publisher', 'binding', 'pages', 'year_published', 'month_read',\n",
            "       'month_read_num', 'year_read', 'bookshelf'],\n",
            "      dtype='object')\n"
          ]
        }
      ]
    },
    {
      "cell_type": "code",
      "source": [
        "print(df.info())"
      ],
      "metadata": {
        "colab": {
          "base_uri": "https://localhost:8080/"
        },
        "id": "f0AkAgub2Eyl",
        "outputId": "279fb779-85ae-4ec2-f085-969de1156597"
      },
      "execution_count": 30,
      "outputs": [
        {
          "output_type": "stream",
          "name": "stdout",
          "text": [
            "<class 'pandas.core.frame.DataFrame'>\n",
            "RangeIndex: 671 entries, 0 to 670\n",
            "Data columns (total 14 columns):\n",
            " #   Column          Non-Null Count  Dtype \n",
            "---  ------          --------------  ----- \n",
            " 0   title           671 non-null    object\n",
            " 1   subtitle        218 non-null    object\n",
            " 2   series          122 non-null    object\n",
            " 3   author          671 non-null    object\n",
            " 4   my_rating       640 non-null    object\n",
            " 5   avg_rating      671 non-null    object\n",
            " 6   publisher       669 non-null    object\n",
            " 7   binding         671 non-null    object\n",
            " 8   pages           671 non-null    int64 \n",
            " 9   year_published  671 non-null    object\n",
            " 10  month_read      671 non-null    object\n",
            " 11  month_read_num  671 non-null    int64 \n",
            " 12  year_read       671 non-null    int64 \n",
            " 13  bookshelf       671 non-null    object\n",
            "dtypes: int64(3), object(11)\n",
            "memory usage: 73.5+ KB\n",
            "None\n"
          ]
        }
      ]
    },
    {
      "cell_type": "code",
      "source": [
        "print(df.dtypes)"
      ],
      "metadata": {
        "colab": {
          "base_uri": "https://localhost:8080/"
        },
        "id": "NvZPYWDy2QAo",
        "outputId": "0263efff-393e-42cd-8af2-fffc4757f19d"
      },
      "execution_count": 31,
      "outputs": [
        {
          "output_type": "stream",
          "name": "stdout",
          "text": [
            "title             object\n",
            "subtitle          object\n",
            "series            object\n",
            "author            object\n",
            "my_rating         object\n",
            "avg_rating        object\n",
            "publisher         object\n",
            "binding           object\n",
            "pages              int64\n",
            "year_published    object\n",
            "month_read        object\n",
            "month_read_num     int64\n",
            "year_read          int64\n",
            "bookshelf         object\n",
            "dtype: object\n"
          ]
        }
      ]
    },
    {
      "cell_type": "code",
      "source": [
        "print(np.sum([df.isnull()]))"
      ],
      "metadata": {
        "colab": {
          "base_uri": "https://localhost:8080/"
        },
        "id": "QdQiG-h62rzv",
        "outputId": "fa8cb9ab-f963-4430-fd82-5b6fa2651a12"
      },
      "execution_count": 32,
      "outputs": [
        {
          "output_type": "stream",
          "name": "stdout",
          "text": [
            "1035\n"
          ]
        }
      ]
    },
    {
      "cell_type": "code",
      "source": [
        "print(np.sum([df.my_rating.isnull()]))"
      ],
      "metadata": {
        "colab": {
          "base_uri": "https://localhost:8080/"
        },
        "id": "4VV840U-3G1M",
        "outputId": "47c77bdc-0b08-427e-fc01-95102c614267"
      },
      "execution_count": 33,
      "outputs": [
        {
          "output_type": "stream",
          "name": "stdout",
          "text": [
            "31\n"
          ]
        }
      ]
    },
    {
      "cell_type": "code",
      "source": [
        "for columns in df:\n",
        "  print(columns)"
      ],
      "metadata": {
        "colab": {
          "base_uri": "https://localhost:8080/"
        },
        "id": "dqEbYdn-3N8K",
        "outputId": "74a688a9-5ee6-4459-8897-2140987c2a24"
      },
      "execution_count": 34,
      "outputs": [
        {
          "output_type": "stream",
          "name": "stdout",
          "text": [
            "title\n",
            "subtitle\n",
            "series\n",
            "author\n",
            "my_rating\n",
            "avg_rating\n",
            "publisher\n",
            "binding\n",
            "pages\n",
            "year_published\n",
            "month_read\n",
            "month_read_num\n",
            "year_read\n",
            "bookshelf\n"
          ]
        }
      ]
    },
    {
      "cell_type": "code",
      "source": [
        "for columns in df:\n",
        "  #print(np.sum([df.isnull()]))\n",
        "  print(columns,\": \", np.sum(df[columns].isnull()))"
      ],
      "metadata": {
        "colab": {
          "base_uri": "https://localhost:8080/"
        },
        "id": "u08lFz1L3x1U",
        "outputId": "267d3872-0607-4147-ac97-0052527754d9"
      },
      "execution_count": 35,
      "outputs": [
        {
          "output_type": "stream",
          "name": "stdout",
          "text": [
            "title :  0\n",
            "subtitle :  453\n",
            "series :  549\n",
            "author :  0\n",
            "my_rating :  31\n",
            "avg_rating :  0\n",
            "publisher :  2\n",
            "binding :  0\n",
            "pages :  0\n",
            "year_published :  0\n",
            "month_read :  0\n",
            "month_read_num :  0\n",
            "year_read :  0\n",
            "bookshelf :  0\n"
          ]
        }
      ]
    },
    {
      "cell_type": "code",
      "source": [
        "for columns in df:\n",
        "  #print(columns)\n",
        "  print(columns,\": \", df[columns].isnull().sum())"
      ],
      "metadata": {
        "colab": {
          "base_uri": "https://localhost:8080/"
        },
        "id": "vNwcRm614WcQ",
        "outputId": "b321194d-2380-44a8-cc52-9d213772dd93"
      },
      "execution_count": 36,
      "outputs": [
        {
          "output_type": "stream",
          "name": "stdout",
          "text": [
            "title :  0\n",
            "subtitle :  453\n",
            "series :  549\n",
            "author :  0\n",
            "my_rating :  31\n",
            "avg_rating :  0\n",
            "publisher :  2\n",
            "binding :  0\n",
            "pages :  0\n",
            "year_published :  0\n",
            "month_read :  0\n",
            "month_read_num :  0\n",
            "year_read :  0\n",
            "bookshelf :  0\n"
          ]
        }
      ]
    },
    {
      "cell_type": "code",
      "source": [
        "df1 = df[df.my_rating.notnull()]"
      ],
      "metadata": {
        "id": "Dy2EmEs74-B_"
      },
      "execution_count": 37,
      "outputs": []
    },
    {
      "cell_type": "code",
      "source": [
        "print('df:', df.shape)\n",
        "print('df1:', df1.shape)"
      ],
      "metadata": {
        "colab": {
          "base_uri": "https://localhost:8080/"
        },
        "id": "3xcZ4FTL5EMg",
        "outputId": "b20e3d56-f198-49ee-9d40-a0fbf8564473"
      },
      "execution_count": 39,
      "outputs": [
        {
          "output_type": "stream",
          "name": "stdout",
          "text": [
            "df: (671, 14)\n",
            "df1: (640, 14)\n"
          ]
        }
      ]
    },
    {
      "cell_type": "code",
      "source": [
        "print(np.sum([df1.my_rating.isnull()]))"
      ],
      "metadata": {
        "colab": {
          "base_uri": "https://localhost:8080/"
        },
        "id": "rb8TY7wg5hna",
        "outputId": "971fdaf5-11bc-4f9d-b793-2ed6ca0907a4"
      },
      "execution_count": 40,
      "outputs": [
        {
          "output_type": "stream",
          "name": "stdout",
          "text": [
            "0\n"
          ]
        }
      ]
    },
    {
      "cell_type": "code",
      "source": [
        "for columns in df1:\n",
        "  #print(columns)\n",
        "  print(columns,\": \", df1[columns].isnull().sum())"
      ],
      "metadata": {
        "colab": {
          "base_uri": "https://localhost:8080/"
        },
        "id": "CjXpAJQg5rKT",
        "outputId": "2d1bad8e-4225-4266-9545-63cbb2597adb"
      },
      "execution_count": 41,
      "outputs": [
        {
          "output_type": "stream",
          "name": "stdout",
          "text": [
            "title :  0\n",
            "subtitle :  437\n",
            "series :  519\n",
            "author :  0\n",
            "my_rating :  0\n",
            "avg_rating :  0\n",
            "publisher :  2\n",
            "binding :  0\n",
            "pages :  0\n",
            "year_published :  0\n",
            "month_read :  0\n",
            "month_read_num :  0\n",
            "year_read :  0\n",
            "bookshelf :  0\n"
          ]
        }
      ]
    },
    {
      "cell_type": "code",
      "source": [
        "print(df1.dtypes)"
      ],
      "metadata": {
        "colab": {
          "base_uri": "https://localhost:8080/"
        },
        "id": "mJhUNFn36YyO",
        "outputId": "65e9b384-9c30-496d-aa8f-c36c4e812d7d"
      },
      "execution_count": 43,
      "outputs": [
        {
          "output_type": "stream",
          "name": "stdout",
          "text": [
            "title             object\n",
            "subtitle          object\n",
            "series            object\n",
            "author            object\n",
            "my_rating         object\n",
            "avg_rating        object\n",
            "publisher         object\n",
            "binding           object\n",
            "pages              int64\n",
            "year_published    object\n",
            "month_read        object\n",
            "month_read_num     int64\n",
            "year_read          int64\n",
            "bookshelf         object\n",
            "dtype: object\n"
          ]
        }
      ]
    },
    {
      "cell_type": "code",
      "source": [
        "df1.my_rating = df1.my_rating.astype(float)\n",
        "df1.avg_rating = df1.avg_rating.astype(float)\n",
        "df1.year_published = df1.year_published.astype(int)"
      ],
      "metadata": {
        "colab": {
          "base_uri": "https://localhost:8080/"
        },
        "id": "mAgqtKkU6tIA",
        "outputId": "dccb6372-854f-4e83-e273-01f8acf3f1d6"
      },
      "execution_count": 44,
      "outputs": [
        {
          "output_type": "stream",
          "name": "stderr",
          "text": [
            "<ipython-input-44-c1a5638a08df>:1: SettingWithCopyWarning: \n",
            "A value is trying to be set on a copy of a slice from a DataFrame.\n",
            "Try using .loc[row_indexer,col_indexer] = value instead\n",
            "\n",
            "See the caveats in the documentation: https://pandas.pydata.org/pandas-docs/stable/user_guide/indexing.html#returning-a-view-versus-a-copy\n",
            "  df1.my_rating = df1.my_rating.astype(float)\n",
            "<ipython-input-44-c1a5638a08df>:2: SettingWithCopyWarning: \n",
            "A value is trying to be set on a copy of a slice from a DataFrame.\n",
            "Try using .loc[row_indexer,col_indexer] = value instead\n",
            "\n",
            "See the caveats in the documentation: https://pandas.pydata.org/pandas-docs/stable/user_guide/indexing.html#returning-a-view-versus-a-copy\n",
            "  df1.avg_rating = df1.avg_rating.astype(float)\n",
            "<ipython-input-44-c1a5638a08df>:3: SettingWithCopyWarning: \n",
            "A value is trying to be set on a copy of a slice from a DataFrame.\n",
            "Try using .loc[row_indexer,col_indexer] = value instead\n",
            "\n",
            "See the caveats in the documentation: https://pandas.pydata.org/pandas-docs/stable/user_guide/indexing.html#returning-a-view-versus-a-copy\n",
            "  df1.year_published = df1.year_published.astype(int)\n"
          ]
        }
      ]
    },
    {
      "cell_type": "code",
      "source": [
        "print(df1.dtypes)"
      ],
      "metadata": {
        "colab": {
          "base_uri": "https://localhost:8080/"
        },
        "id": "HhLoR7cP7GWK",
        "outputId": "aa1cec23-f6df-4c5e-9eea-5ee1784922d1"
      },
      "execution_count": 45,
      "outputs": [
        {
          "output_type": "stream",
          "name": "stdout",
          "text": [
            "title              object\n",
            "subtitle           object\n",
            "series             object\n",
            "author             object\n",
            "my_rating         float64\n",
            "avg_rating        float64\n",
            "publisher          object\n",
            "binding            object\n",
            "pages               int64\n",
            "year_published      int64\n",
            "month_read         object\n",
            "month_read_num      int64\n",
            "year_read           int64\n",
            "bookshelf          object\n",
            "dtype: object\n"
          ]
        }
      ]
    },
    {
      "cell_type": "code",
      "source": [
        "df1.loc[df1.subtitle.isnull(), 'subtitle'] = \" \""
      ],
      "metadata": {
        "id": "OoZ0lubX7bGk"
      },
      "execution_count": 46,
      "outputs": []
    },
    {
      "cell_type": "code",
      "source": [
        "for columns in df1:\n",
        "  #print(columns)\n",
        "  print(columns,\": \", df1[columns].isnull().sum())"
      ],
      "metadata": {
        "colab": {
          "base_uri": "https://localhost:8080/"
        },
        "id": "-SSKmEAw7xAr",
        "outputId": "4949645b-5799-4e83-b59b-f7d89d6239c6"
      },
      "execution_count": 47,
      "outputs": [
        {
          "output_type": "stream",
          "name": "stdout",
          "text": [
            "title :  0\n",
            "subtitle :  0\n",
            "series :  519\n",
            "author :  0\n",
            "my_rating :  0\n",
            "avg_rating :  0\n",
            "publisher :  2\n",
            "binding :  0\n",
            "pages :  0\n",
            "year_published :  0\n",
            "month_read :  0\n",
            "month_read_num :  0\n",
            "year_read :  0\n",
            "bookshelf :  0\n"
          ]
        }
      ]
    },
    {
      "cell_type": "code",
      "source": [
        "df1.loc[df1.series.isnull(), 'series'] = \" \"\n",
        "df1.loc[df1.publisher.isnull(), 'publisher'] = \" \""
      ],
      "metadata": {
        "id": "ia-uwNZK75yJ"
      },
      "execution_count": 48,
      "outputs": []
    },
    {
      "cell_type": "code",
      "source": [
        "for columns in df1:\n",
        "  #print(columns)\n",
        "  print(columns,\": \", df1[columns].isnull().sum())"
      ],
      "metadata": {
        "colab": {
          "base_uri": "https://localhost:8080/"
        },
        "id": "7k4mbtkH8JEi",
        "outputId": "8c0755b8-3e0b-4900-ef07-b08c5663a311"
      },
      "execution_count": 49,
      "outputs": [
        {
          "output_type": "stream",
          "name": "stdout",
          "text": [
            "title :  0\n",
            "subtitle :  0\n",
            "series :  0\n",
            "author :  0\n",
            "my_rating :  0\n",
            "avg_rating :  0\n",
            "publisher :  0\n",
            "binding :  0\n",
            "pages :  0\n",
            "year_published :  0\n",
            "month_read :  0\n",
            "month_read_num :  0\n",
            "year_read :  0\n",
            "bookshelf :  0\n"
          ]
        }
      ]
    },
    {
      "cell_type": "code",
      "source": [
        "print(df1[df1.year_published < 0].title)"
      ],
      "metadata": {
        "colab": {
          "base_uri": "https://localhost:8080/"
        },
        "id": "uZLUPDeE8rsq",
        "outputId": "84e5cd20-b2f3-45c8-f827-abebd8920604"
      },
      "execution_count": 50,
      "outputs": [
        {
          "output_type": "stream",
          "name": "stdout",
          "text": [
            "61                   Bad Dog\n",
            "85                Calico Joe\n",
            "122               Die Trying\n",
            "169         Garden of Beasts\n",
            "250               Life of Pi\n",
            "461        The First Husband\n",
            "491    The King of Methlehem\n",
            "667     You Know You Love Me\n",
            "Name: title, dtype: object\n"
          ]
        }
      ]
    },
    {
      "cell_type": "code",
      "source": [
        "df1 = df1[df1.year_published > 0]"
      ],
      "metadata": {
        "id": "5gFlWS5m86Dl"
      },
      "execution_count": 51,
      "outputs": []
    },
    {
      "cell_type": "code",
      "source": [
        "print(df1.shape)"
      ],
      "metadata": {
        "colab": {
          "base_uri": "https://localhost:8080/"
        },
        "id": "TxPeH4da8_oF",
        "outputId": "6c78af6b-3336-47df-cc5d-7509d8ac1854"
      },
      "execution_count": 52,
      "outputs": [
        {
          "output_type": "stream",
          "name": "stdout",
          "text": [
            "(632, 14)\n"
          ]
        }
      ]
    },
    {
      "cell_type": "code",
      "source": [
        "print(df1[df1.my_rating < 0].title)"
      ],
      "metadata": {
        "colab": {
          "base_uri": "https://localhost:8080/"
        },
        "id": "0gDvzaO89O33",
        "outputId": "d48700a9-7431-4b5b-ba0d-411833ba46df"
      },
      "execution_count": 53,
      "outputs": [
        {
          "output_type": "stream",
          "name": "stdout",
          "text": [
            "Series([], Name: title, dtype: object)\n"
          ]
        }
      ]
    },
    {
      "cell_type": "code",
      "source": [
        "print(df1[df1.my_rating > 5].title)"
      ],
      "metadata": {
        "colab": {
          "base_uri": "https://localhost:8080/"
        },
        "id": "O607hGuL9YnL",
        "outputId": "505a25b5-ccc9-42b1-feaa-a7bf79c0fc4e"
      },
      "execution_count": 54,
      "outputs": [
        {
          "output_type": "stream",
          "name": "stdout",
          "text": [
            "Series([], Name: title, dtype: object)\n"
          ]
        }
      ]
    },
    {
      "cell_type": "code",
      "source": [
        "print(df1[df1.avg_rating < 0].title)"
      ],
      "metadata": {
        "colab": {
          "base_uri": "https://localhost:8080/"
        },
        "id": "OZjj1jnU9e8u",
        "outputId": "93c9df6d-a49b-4305-c9f3-ef71b25f8d6a"
      },
      "execution_count": 55,
      "outputs": [
        {
          "output_type": "stream",
          "name": "stdout",
          "text": [
            "106         Dark Homecoming\n",
            "115      Dear Mr. Knightley\n",
            "182                 Gretzky\n",
            "482    The Imperfectionists\n",
            "669    You Know You Love Me\n",
            "Name: title, dtype: object\n"
          ]
        }
      ]
    },
    {
      "cell_type": "code",
      "source": [
        "df1 = df1[df1.avg_rating >= 0]"
      ],
      "metadata": {
        "id": "y5SzEVQC9obo"
      },
      "execution_count": 56,
      "outputs": []
    },
    {
      "cell_type": "code",
      "source": [
        "print(df1[df1.avg_rating <0].title)"
      ],
      "metadata": {
        "colab": {
          "base_uri": "https://localhost:8080/"
        },
        "id": "EPDdr80s95NI",
        "outputId": "2190c8b7-2c82-4143-c538-c0e11858b0f5"
      },
      "execution_count": 57,
      "outputs": [
        {
          "output_type": "stream",
          "name": "stdout",
          "text": [
            "Series([], Name: title, dtype: object)\n"
          ]
        }
      ]
    },
    {
      "cell_type": "code",
      "source": [
        "print(df1.shape)"
      ],
      "metadata": {
        "colab": {
          "base_uri": "https://localhost:8080/"
        },
        "id": "AwN1zU1F-Acn",
        "outputId": "a00e0c97-5b1f-44c7-8587-165f36e614e5"
      },
      "execution_count": 58,
      "outputs": [
        {
          "output_type": "stream",
          "name": "stdout",
          "text": [
            "(627, 14)\n"
          ]
        }
      ]
    },
    {
      "cell_type": "code",
      "source": [
        "print(df1[df1.avg_rating > 5].title)"
      ],
      "metadata": {
        "colab": {
          "base_uri": "https://localhost:8080/"
        },
        "id": "6Ce0gnGA-GnD",
        "outputId": "5c3b0441-2eb2-4f92-d727-a3a715463551"
      },
      "execution_count": 59,
      "outputs": [
        {
          "output_type": "stream",
          "name": "stdout",
          "text": [
            "135                 Dreyer's English\n",
            "150              Family Resemblances\n",
            "236    Last Night at Chateau Marmont\n",
            "425          The Book of Lost Things\n",
            "668             You Know You Love Me\n",
            "Name: title, dtype: object\n"
          ]
        }
      ]
    },
    {
      "cell_type": "code",
      "source": [
        "df1 = df1[df1.avg_rating <= 5]"
      ],
      "metadata": {
        "id": "HQ8noFSA-Oet"
      },
      "execution_count": 60,
      "outputs": []
    },
    {
      "cell_type": "code",
      "source": [
        "print(df1[df1.avg_rating > 5].title)"
      ],
      "metadata": {
        "colab": {
          "base_uri": "https://localhost:8080/"
        },
        "id": "Ppm3Vvp5-Zjr",
        "outputId": "bfce60cd-619c-4673-84ce-b07969384b44"
      },
      "execution_count": 61,
      "outputs": [
        {
          "output_type": "stream",
          "name": "stdout",
          "text": [
            "Series([], Name: title, dtype: object)\n"
          ]
        }
      ]
    },
    {
      "cell_type": "code",
      "source": [
        "print(df1.shape)"
      ],
      "metadata": {
        "colab": {
          "base_uri": "https://localhost:8080/"
        },
        "id": "9DgStHMa-cv8",
        "outputId": "b6a2026f-58c3-448f-8fde-6f7d518bebb6"
      },
      "execution_count": 62,
      "outputs": [
        {
          "output_type": "stream",
          "name": "stdout",
          "text": [
            "(622, 14)\n"
          ]
        }
      ]
    },
    {
      "cell_type": "code",
      "source": [
        "group_author = df1.groupby('author')\n",
        "group_author.count()\n",
        "print(group_author['author'].count())"
      ],
      "metadata": {
        "colab": {
          "base_uri": "https://localhost:8080/"
        },
        "id": "Hy9LaulL_pKD",
        "outputId": "a1eaf438-6a91-4e5c-fca7-a3e1dcb24b6a"
      },
      "execution_count": 63,
      "outputs": [
        {
          "output_type": "stream",
          "name": "stdout",
          "text": [
            "author\n",
            "Abramowitz, Andy         1\n",
            "Ackerley, J.R.           1\n",
            "Adams, David             1\n",
            "Adler, Joseph            1\n",
            "Adler, Steven            1\n",
            "                        ..\n",
            "Zerby, Chuck             1\n",
            "Zevin, Gabrielle         1\n",
            "Ziegesar, Cecily von     7\n",
            "Zlozower, Neil           1\n",
            "de Hamel, Christopher    1\n",
            "Name: author, Length: 452, dtype: int64\n"
          ]
        }
      ]
    },
    {
      "cell_type": "code",
      "source": [
        "df_num = group_author['author'].count()\n",
        "max = 0\n",
        "max_author = ''\n",
        "for author in df_num.index:\n",
        "    #YOUR CODE HERE\n",
        "    if df_num[author] > max:\n",
        "      max = df_num[author]\n",
        "      max_author = author\n",
        "print(max_author, max)\n"
      ],
      "metadata": {
        "colab": {
          "base_uri": "https://localhost:8080/"
        },
        "id": "4V8XZMMz_vCO",
        "outputId": "084a8184-0b0b-49f6-a51d-ad6c7a8cd1b7"
      },
      "execution_count": 64,
      "outputs": [
        {
          "output_type": "stream",
          "name": "stdout",
          "text": [
            "Grisham, John 22\n"
          ]
        }
      ]
    },
    {
      "cell_type": "code",
      "source": [
        "for author, subset in df1.groupby('author'):\n",
        "    if author == max_author:\n",
        "      print(author)\n",
        "      for index, row in subset.iterrows():\n",
        "        print(row['title'], end=', ')\n",
        "        print(row['year_published'])"
      ],
      "metadata": {
        "colab": {
          "base_uri": "https://localhost:8080/"
        },
        "id": "ZbAwucjxAX8R",
        "outputId": "b833971a-93ae-48f9-cffd-9333d87c0bc4"
      },
      "execution_count": 65,
      "outputs": [
        {
          "output_type": "stream",
          "name": "stdout",
          "text": [
            "Grisham, John\n",
            "A Time to Kill, 1989\n",
            "Calico Joe, 2012\n",
            "Ford County, 2008\n",
            "Playing for Pizza, 2007\n",
            "Rogue Lawyer, 2015\n",
            "Sycamore Row, 2013\n",
            "The Associate, 2009\n",
            "The Brethren, 2000\n",
            "The Broker, 2005\n",
            "The Chamber, 1994\n",
            "The Confession, 2010\n",
            "The King of Torts, 2003\n",
            "The Last Juror, 2004\n",
            "The Litigators, 2011\n",
            "The Partner, 1997\n",
            "The Racketeer, 2012\n",
            "The Rooster Bar, 2018\n",
            "The Street Lawyer, 1998\n",
            "The Summons, 2002\n",
            "The Testament, 1999\n",
            "The Whistler, 2016\n",
            "Theodore Boone, 2010\n"
          ]
        }
      ]
    }
  ]
}